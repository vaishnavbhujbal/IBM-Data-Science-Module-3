{
 "cells": [
  {
   "cell_type": "markdown",
   "id": "f08dee74-4249-4339-b702-69b48b7a80a1",
   "metadata": {},
   "source": [
    "# Data Science Tools and Ecosystem"
   ]
  },
  {
   "cell_type": "markdown",
   "id": "92a86436-ce09-404e-ac35-19dd6478a024",
   "metadata": {},
   "source": [
    "In this notebook, Data Science Tools and Ecosystem are summarized"
   ]
  },
  {
   "cell_type": "markdown",
   "id": "daf378b5-69e9-463e-884f-e00d36c56a5b",
   "metadata": {},
   "source": [
    "* commonly used library\n",
    "* popular languages that Data Scientists uses\n",
    "* simple arithmetic expression\n",
    "\n"
   ]
  },
  {
   "cell_type": "markdown",
   "id": "f1a53b65-0124-46b9-8e43-68f3f1b1410d",
   "metadata": {},
   "source": [
    " **Objectives:**"
   ]
  },
  {
   "cell_type": "markdown",
   "id": "76290516-27af-4311-892c-c37d87acb2a1",
   "metadata": {},
   "source": [
    "List popular languages for Data Science."
   ]
  },
  {
   "cell_type": "markdown",
   "id": "6b89bba6-b601-4b12-b27b-08c43481e3dd",
   "metadata": {},
   "source": [
    "* Python.\n",
    "* R.\n",
    "* SQL.\n",
    "* Java.\n",
    "* Julia.\n",
    "* Scala.\n",
    "* C/C++\n",
    "* JavaScript."
   ]
  },
  {
   "cell_type": "markdown",
   "id": "99857cd3-34f9-41fa-ac8c-89681270227f",
   "metadata": {},
   "source": [
    "Some of the popular languages that Data Scientists use are"
   ]
  },
  {
   "cell_type": "markdown",
   "id": "09cd5204-0a18-49e6-984a-38a9ecf57cac",
   "metadata": {},
   "source": [
    "1. R \n",
    "2. Python \n",
    "3. Julia"
   ]
  },
  {
   "cell_type": "markdown",
   "id": "e6cd2d36-289e-4e47-bfd9-9b839f726193",
   "metadata": {},
   "source": [
    "Some of the commonly used libraries used by Data Scientists include"
   ]
  },
  {
   "cell_type": "markdown",
   "id": "8f496d44-06f8-4b4c-9e87-e55d3b41a7f0",
   "metadata": {},
   "source": [
    "1. TensorFlow\n",
    "2. NumPy\n",
    "3. SciPy\n",
    "4. Pandas\n",
    "5. Matplotlib"
   ]
  },
  {
   "cell_type": "markdown",
   "id": "70e34a0a-ce40-4468-8da0-dba4961668e8",
   "metadata": {},
   "source": [
    "|Data Science Tools|\n",
    "|----|\n",
    "|RStudio|\n",
    "Apache Spark|\n",
    "|TensorFlow|"
   ]
  },
  {
   "cell_type": "markdown",
   "id": "6dfb74f7-6ac8-4245-8d34-6d23b905459f",
   "metadata": {},
   "source": [
    "### Below are a few examples of evaluating arithmetic expressions in Python"
   ]
  },
  {
   "cell_type": "markdown",
   "id": "9784911d-f1b9-4742-85f0-84d2e16c2fc3",
   "metadata": {},
   "source": [
    "$\\hat{Y} = \\hat{\\beta}_{0} + \\sum \\limits _{j=1} ^{p} X_{j}\\hat{\\beta}_{j} $"
   ]
  },
  {
   "cell_type": "code",
   "execution_count": 7,
   "id": "58676256-ff7f-4a6c-899c-855a7c073f06",
   "metadata": {
    "tags": []
   },
   "outputs": [
    {
     "data": {
      "text/plain": [
       "17"
      ]
     },
     "execution_count": 7,
     "metadata": {},
     "output_type": "execute_result"
    }
   ],
   "source": [
    "(3*4)+5\n",
    "#This a simple arithmetic expression to mutiply then add integers"
   ]
  },
  {
   "cell_type": "code",
   "execution_count": 4,
   "id": "c18f82a0-dbaf-4693-9fc1-c89124ad4765",
   "metadata": {
    "tags": []
   },
   "outputs": [
    {
     "name": "stdout",
     "output_type": "stream",
     "text": [
      "This will convert 200 minutes to hours by diving by 60 :- 03:20:00\n"
     ]
    }
   ],
   "source": [
    "import time\n",
    "n=12000\n",
    "# here 200 min are muktiplied by 60 to convert it to 12000 sec\n",
    "time_format = time.strftime(\"%H:%M:%S\", time.gmtime(n))\n",
    "print(\"This will convert 200 minutes to hours by diving by 60 :-\",time_format)"
   ]
  },
  {
   "cell_type": "markdown",
   "id": "5f2172cd-33de-4d53-889d-f655a620ba98",
   "metadata": {},
   "source": [
    "## Author"
   ]
  },
  {
   "cell_type": "markdown",
   "id": "960d2636-a67e-4be0-a3b2-b407006dd18a",
   "metadata": {},
   "source": [
    "Ajinkya Rao"
   ]
  },
  {
   "cell_type": "code",
   "execution_count": null,
   "id": "6f0dab79-efed-4eee-8209-d625df7a8436",
   "metadata": {},
   "outputs": [],
   "source": []
  }
 ],
 "metadata": {
  "kernelspec": {
   "display_name": "Python",
   "language": "python",
   "name": "conda-env-python-py"
  },
  "language_info": {
   "codemirror_mode": {
    "name": "ipython",
    "version": 3
   },
   "file_extension": ".py",
   "mimetype": "text/x-python",
   "name": "python",
   "nbconvert_exporter": "python",
   "pygments_lexer": "ipython3",
   "version": "3.7.12"
  }
 },
 "nbformat": 4,
 "nbformat_minor": 5
}
